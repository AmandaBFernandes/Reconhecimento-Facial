{
 "cells": [
  {
   "cell_type": "code",
   "execution_count": 65,
   "metadata": {},
   "outputs": [],
   "source": [
    "import numpy as np\n",
    "import pandas as pd\n",
    "\n",
    "import matplotlib.pyplot as plt\n",
    "%matplotlib inline"
   ]
  },
  {
   "cell_type": "markdown",
   "metadata": {},
   "source": [
    "# Train"
   ]
  },
  {
   "cell_type": "code",
   "execution_count": 66,
   "metadata": {},
   "outputs": [],
   "source": [
    "df_desconhecidos = pd.read_csv(\"faces_desconhecidos-Copy1.csv\")"
   ]
  },
  {
   "cell_type": "code",
   "execution_count": 67,
   "metadata": {},
   "outputs": [],
   "source": [
    "df_conhecidos = pd.read_csv(\"faces.csv\")"
   ]
  },
  {
   "cell_type": "code",
   "execution_count": 68,
   "metadata": {},
   "outputs": [],
   "source": [
    "df_conhecidosval = pd.read_csv(\"faces_validation.csv\")"
   ]
  },
  {
   "cell_type": "code",
   "execution_count": 69,
   "metadata": {},
   "outputs": [],
   "source": [
    "df_conhecidos_final = pd.concat([df_conhecidos, df_conhecidosval])"
   ]
  },
  {
   "cell_type": "code",
   "execution_count": 70,
   "metadata": {},
   "outputs": [],
   "source": [
    "df = pd.concat([df_desconhecidos, df_conhecidos_final])"
   ]
  },
  {
   "cell_type": "code",
   "execution_count": 71,
   "metadata": {},
   "outputs": [
    {
     "data": {
      "text/html": [
       "<div>\n",
       "<style scoped>\n",
       "    .dataframe tbody tr th:only-of-type {\n",
       "        vertical-align: middle;\n",
       "    }\n",
       "\n",
       "    .dataframe tbody tr th {\n",
       "        vertical-align: top;\n",
       "    }\n",
       "\n",
       "    .dataframe thead th {\n",
       "        text-align: right;\n",
       "    }\n",
       "</style>\n",
       "<table border=\"1\" class=\"dataframe\">\n",
       "  <thead>\n",
       "    <tr style=\"text-align: right;\">\n",
       "      <th></th>\n",
       "      <th>0</th>\n",
       "      <th>1</th>\n",
       "      <th>2</th>\n",
       "      <th>3</th>\n",
       "      <th>4</th>\n",
       "      <th>5</th>\n",
       "      <th>6</th>\n",
       "      <th>7</th>\n",
       "      <th>8</th>\n",
       "      <th>9</th>\n",
       "      <th>...</th>\n",
       "      <th>119</th>\n",
       "      <th>120</th>\n",
       "      <th>121</th>\n",
       "      <th>122</th>\n",
       "      <th>123</th>\n",
       "      <th>124</th>\n",
       "      <th>125</th>\n",
       "      <th>126</th>\n",
       "      <th>127</th>\n",
       "      <th>target</th>\n",
       "    </tr>\n",
       "  </thead>\n",
       "  <tbody>\n",
       "    <tr>\n",
       "      <th>0</th>\n",
       "      <td>-0.028100</td>\n",
       "      <td>1.874009</td>\n",
       "      <td>0.975083</td>\n",
       "      <td>0.602640</td>\n",
       "      <td>0.651621</td>\n",
       "      <td>0.387701</td>\n",
       "      <td>0.754534</td>\n",
       "      <td>0.255482</td>\n",
       "      <td>0.570138</td>\n",
       "      <td>0.232678</td>\n",
       "      <td>...</td>\n",
       "      <td>0.000564</td>\n",
       "      <td>-1.750562</td>\n",
       "      <td>-0.740965</td>\n",
       "      <td>-1.333565</td>\n",
       "      <td>0.424362</td>\n",
       "      <td>1.464125</td>\n",
       "      <td>0.441541</td>\n",
       "      <td>0.117519</td>\n",
       "      <td>0.773804</td>\n",
       "      <td>desconhecidos</td>\n",
       "    </tr>\n",
       "    <tr>\n",
       "      <th>1</th>\n",
       "      <td>0.281798</td>\n",
       "      <td>0.222542</td>\n",
       "      <td>-0.637775</td>\n",
       "      <td>-1.389234</td>\n",
       "      <td>-0.944202</td>\n",
       "      <td>1.170996</td>\n",
       "      <td>-2.149016</td>\n",
       "      <td>0.207373</td>\n",
       "      <td>1.258633</td>\n",
       "      <td>1.118211</td>\n",
       "      <td>...</td>\n",
       "      <td>-2.077074</td>\n",
       "      <td>0.061272</td>\n",
       "      <td>0.858069</td>\n",
       "      <td>-0.620240</td>\n",
       "      <td>-0.448048</td>\n",
       "      <td>0.659152</td>\n",
       "      <td>-0.578539</td>\n",
       "      <td>0.022662</td>\n",
       "      <td>-1.110150</td>\n",
       "      <td>desconhecidos</td>\n",
       "    </tr>\n",
       "    <tr>\n",
       "      <th>2</th>\n",
       "      <td>-0.469598</td>\n",
       "      <td>-0.438383</td>\n",
       "      <td>1.035088</td>\n",
       "      <td>0.419017</td>\n",
       "      <td>-2.502093</td>\n",
       "      <td>1.199449</td>\n",
       "      <td>1.220177</td>\n",
       "      <td>-0.849276</td>\n",
       "      <td>-2.125674</td>\n",
       "      <td>0.487827</td>\n",
       "      <td>...</td>\n",
       "      <td>-0.075716</td>\n",
       "      <td>-0.870743</td>\n",
       "      <td>-0.749646</td>\n",
       "      <td>-0.024553</td>\n",
       "      <td>0.895486</td>\n",
       "      <td>-0.095862</td>\n",
       "      <td>1.756820</td>\n",
       "      <td>-0.284382</td>\n",
       "      <td>1.243302</td>\n",
       "      <td>desconhecidos</td>\n",
       "    </tr>\n",
       "    <tr>\n",
       "      <th>3</th>\n",
       "      <td>-0.019212</td>\n",
       "      <td>0.063674</td>\n",
       "      <td>0.368226</td>\n",
       "      <td>-0.734526</td>\n",
       "      <td>-1.221279</td>\n",
       "      <td>-1.026126</td>\n",
       "      <td>2.541132</td>\n",
       "      <td>-0.602338</td>\n",
       "      <td>0.804724</td>\n",
       "      <td>-1.249530</td>\n",
       "      <td>...</td>\n",
       "      <td>-1.705541</td>\n",
       "      <td>1.118912</td>\n",
       "      <td>0.027196</td>\n",
       "      <td>0.776124</td>\n",
       "      <td>0.068407</td>\n",
       "      <td>-0.755236</td>\n",
       "      <td>-0.928870</td>\n",
       "      <td>-2.261591</td>\n",
       "      <td>-1.204839</td>\n",
       "      <td>desconhecidos</td>\n",
       "    </tr>\n",
       "    <tr>\n",
       "      <th>4</th>\n",
       "      <td>0.792076</td>\n",
       "      <td>-1.098803</td>\n",
       "      <td>-1.363440</td>\n",
       "      <td>-0.442606</td>\n",
       "      <td>-1.206599</td>\n",
       "      <td>0.595012</td>\n",
       "      <td>-0.013578</td>\n",
       "      <td>0.476706</td>\n",
       "      <td>-1.628913</td>\n",
       "      <td>-0.248366</td>\n",
       "      <td>...</td>\n",
       "      <td>-1.437911</td>\n",
       "      <td>0.343600</td>\n",
       "      <td>1.075108</td>\n",
       "      <td>0.339993</td>\n",
       "      <td>0.843487</td>\n",
       "      <td>0.041740</td>\n",
       "      <td>1.926534</td>\n",
       "      <td>-0.437672</td>\n",
       "      <td>0.653635</td>\n",
       "      <td>desconhecidos</td>\n",
       "    </tr>\n",
       "    <tr>\n",
       "      <th>...</th>\n",
       "      <td>...</td>\n",
       "      <td>...</td>\n",
       "      <td>...</td>\n",
       "      <td>...</td>\n",
       "      <td>...</td>\n",
       "      <td>...</td>\n",
       "      <td>...</td>\n",
       "      <td>...</td>\n",
       "      <td>...</td>\n",
       "      <td>...</td>\n",
       "      <td>...</td>\n",
       "      <td>...</td>\n",
       "      <td>...</td>\n",
       "      <td>...</td>\n",
       "      <td>...</td>\n",
       "      <td>...</td>\n",
       "      <td>...</td>\n",
       "      <td>...</td>\n",
       "      <td>...</td>\n",
       "      <td>...</td>\n",
       "      <td>...</td>\n",
       "    </tr>\n",
       "    <tr>\n",
       "      <th>135</th>\n",
       "      <td>-0.515415</td>\n",
       "      <td>-0.364444</td>\n",
       "      <td>0.376679</td>\n",
       "      <td>-1.169360</td>\n",
       "      <td>-0.171952</td>\n",
       "      <td>-0.082919</td>\n",
       "      <td>0.334564</td>\n",
       "      <td>1.287003</td>\n",
       "      <td>0.722706</td>\n",
       "      <td>-0.145439</td>\n",
       "      <td>...</td>\n",
       "      <td>-0.337408</td>\n",
       "      <td>0.911319</td>\n",
       "      <td>0.387249</td>\n",
       "      <td>-0.663056</td>\n",
       "      <td>-0.548511</td>\n",
       "      <td>0.864339</td>\n",
       "      <td>-0.452718</td>\n",
       "      <td>0.657906</td>\n",
       "      <td>0.308859</td>\n",
       "      <td>Anita</td>\n",
       "    </tr>\n",
       "    <tr>\n",
       "      <th>136</th>\n",
       "      <td>-0.053085</td>\n",
       "      <td>-0.128445</td>\n",
       "      <td>-0.045827</td>\n",
       "      <td>-0.832958</td>\n",
       "      <td>-0.650303</td>\n",
       "      <td>0.017163</td>\n",
       "      <td>0.393169</td>\n",
       "      <td>1.088605</td>\n",
       "      <td>0.715595</td>\n",
       "      <td>-0.157572</td>\n",
       "      <td>...</td>\n",
       "      <td>-0.159320</td>\n",
       "      <td>1.508870</td>\n",
       "      <td>0.259740</td>\n",
       "      <td>-0.853419</td>\n",
       "      <td>-0.660579</td>\n",
       "      <td>0.600529</td>\n",
       "      <td>-0.557777</td>\n",
       "      <td>0.683590</td>\n",
       "      <td>0.084083</td>\n",
       "      <td>Anita</td>\n",
       "    </tr>\n",
       "    <tr>\n",
       "      <th>137</th>\n",
       "      <td>0.088084</td>\n",
       "      <td>0.431689</td>\n",
       "      <td>0.516850</td>\n",
       "      <td>-0.994467</td>\n",
       "      <td>-0.214396</td>\n",
       "      <td>0.053245</td>\n",
       "      <td>0.753357</td>\n",
       "      <td>0.683375</td>\n",
       "      <td>0.752360</td>\n",
       "      <td>0.049482</td>\n",
       "      <td>...</td>\n",
       "      <td>-0.217035</td>\n",
       "      <td>1.238264</td>\n",
       "      <td>-0.065421</td>\n",
       "      <td>-0.967712</td>\n",
       "      <td>-0.686561</td>\n",
       "      <td>0.367021</td>\n",
       "      <td>-0.701336</td>\n",
       "      <td>0.354293</td>\n",
       "      <td>0.018954</td>\n",
       "      <td>Anita</td>\n",
       "    </tr>\n",
       "    <tr>\n",
       "      <th>138</th>\n",
       "      <td>0.226625</td>\n",
       "      <td>-0.122337</td>\n",
       "      <td>-0.277066</td>\n",
       "      <td>-0.220689</td>\n",
       "      <td>-0.309456</td>\n",
       "      <td>0.359915</td>\n",
       "      <td>0.060279</td>\n",
       "      <td>-0.154357</td>\n",
       "      <td>-0.121863</td>\n",
       "      <td>-0.219565</td>\n",
       "      <td>...</td>\n",
       "      <td>0.005224</td>\n",
       "      <td>0.322420</td>\n",
       "      <td>-0.605390</td>\n",
       "      <td>-0.115777</td>\n",
       "      <td>0.365695</td>\n",
       "      <td>-0.089305</td>\n",
       "      <td>-0.025769</td>\n",
       "      <td>0.487779</td>\n",
       "      <td>0.257137</td>\n",
       "      <td>Anita</td>\n",
       "    </tr>\n",
       "    <tr>\n",
       "      <th>139</th>\n",
       "      <td>-0.875248</td>\n",
       "      <td>-0.335100</td>\n",
       "      <td>0.113108</td>\n",
       "      <td>-0.506653</td>\n",
       "      <td>-0.538222</td>\n",
       "      <td>0.073820</td>\n",
       "      <td>0.108364</td>\n",
       "      <td>0.243283</td>\n",
       "      <td>0.086968</td>\n",
       "      <td>-0.480519</td>\n",
       "      <td>...</td>\n",
       "      <td>-0.538318</td>\n",
       "      <td>0.667571</td>\n",
       "      <td>-0.554510</td>\n",
       "      <td>0.297783</td>\n",
       "      <td>0.589745</td>\n",
       "      <td>0.358634</td>\n",
       "      <td>-0.324054</td>\n",
       "      <td>1.172567</td>\n",
       "      <td>0.563215</td>\n",
       "      <td>Anita</td>\n",
       "    </tr>\n",
       "  </tbody>\n",
       "</table>\n",
       "<p>15488 rows × 129 columns</p>\n",
       "</div>"
      ],
      "text/plain": [
       "            0         1         2         3         4         5         6  \\\n",
       "0   -0.028100  1.874009  0.975083  0.602640  0.651621  0.387701  0.754534   \n",
       "1    0.281798  0.222542 -0.637775 -1.389234 -0.944202  1.170996 -2.149016   \n",
       "2   -0.469598 -0.438383  1.035088  0.419017 -2.502093  1.199449  1.220177   \n",
       "3   -0.019212  0.063674  0.368226 -0.734526 -1.221279 -1.026126  2.541132   \n",
       "4    0.792076 -1.098803 -1.363440 -0.442606 -1.206599  0.595012 -0.013578   \n",
       "..        ...       ...       ...       ...       ...       ...       ...   \n",
       "135 -0.515415 -0.364444  0.376679 -1.169360 -0.171952 -0.082919  0.334564   \n",
       "136 -0.053085 -0.128445 -0.045827 -0.832958 -0.650303  0.017163  0.393169   \n",
       "137  0.088084  0.431689  0.516850 -0.994467 -0.214396  0.053245  0.753357   \n",
       "138  0.226625 -0.122337 -0.277066 -0.220689 -0.309456  0.359915  0.060279   \n",
       "139 -0.875248 -0.335100  0.113108 -0.506653 -0.538222  0.073820  0.108364   \n",
       "\n",
       "            7         8         9  ...       119       120       121  \\\n",
       "0    0.255482  0.570138  0.232678  ...  0.000564 -1.750562 -0.740965   \n",
       "1    0.207373  1.258633  1.118211  ... -2.077074  0.061272  0.858069   \n",
       "2   -0.849276 -2.125674  0.487827  ... -0.075716 -0.870743 -0.749646   \n",
       "3   -0.602338  0.804724 -1.249530  ... -1.705541  1.118912  0.027196   \n",
       "4    0.476706 -1.628913 -0.248366  ... -1.437911  0.343600  1.075108   \n",
       "..        ...       ...       ...  ...       ...       ...       ...   \n",
       "135  1.287003  0.722706 -0.145439  ... -0.337408  0.911319  0.387249   \n",
       "136  1.088605  0.715595 -0.157572  ... -0.159320  1.508870  0.259740   \n",
       "137  0.683375  0.752360  0.049482  ... -0.217035  1.238264 -0.065421   \n",
       "138 -0.154357 -0.121863 -0.219565  ...  0.005224  0.322420 -0.605390   \n",
       "139  0.243283  0.086968 -0.480519  ... -0.538318  0.667571 -0.554510   \n",
       "\n",
       "          122       123       124       125       126       127         target  \n",
       "0   -1.333565  0.424362  1.464125  0.441541  0.117519  0.773804  desconhecidos  \n",
       "1   -0.620240 -0.448048  0.659152 -0.578539  0.022662 -1.110150  desconhecidos  \n",
       "2   -0.024553  0.895486 -0.095862  1.756820 -0.284382  1.243302  desconhecidos  \n",
       "3    0.776124  0.068407 -0.755236 -0.928870 -2.261591 -1.204839  desconhecidos  \n",
       "4    0.339993  0.843487  0.041740  1.926534 -0.437672  0.653635  desconhecidos  \n",
       "..        ...       ...       ...       ...       ...       ...            ...  \n",
       "135 -0.663056 -0.548511  0.864339 -0.452718  0.657906  0.308859          Anita  \n",
       "136 -0.853419 -0.660579  0.600529 -0.557777  0.683590  0.084083          Anita  \n",
       "137 -0.967712 -0.686561  0.367021 -0.701336  0.354293  0.018954          Anita  \n",
       "138 -0.115777  0.365695 -0.089305 -0.025769  0.487779  0.257137          Anita  \n",
       "139  0.297783  0.589745  0.358634 -0.324054  1.172567  0.563215          Anita  \n",
       "\n",
       "[15488 rows x 129 columns]"
      ]
     },
     "execution_count": 71,
     "metadata": {},
     "output_type": "execute_result"
    }
   ],
   "source": [
    "df"
   ]
  },
  {
   "cell_type": "code",
   "execution_count": 72,
   "metadata": {},
   "outputs": [],
   "source": [
    "X = np.array(df.drop(\"target\", axis=1))\n",
    "y = np.array(df.target)"
   ]
  },
  {
   "cell_type": "code",
   "execution_count": 73,
   "metadata": {},
   "outputs": [
    {
     "data": {
      "text/plain": [
       "array([[-0.02810006,  1.874009  ,  0.9750827 , ...,  0.44154063,\n",
       "         0.11751907,  0.7738039 ],\n",
       "       [ 0.28179818,  0.22254208, -0.63777477, ..., -0.57853884,\n",
       "         0.02266233, -1.1101495 ],\n",
       "       [-0.4695979 , -0.4383834 ,  1.0350882 , ...,  1.7568198 ,\n",
       "        -0.28438193,  1.2433019 ],\n",
       "       ...,\n",
       "       [ 0.08808435,  0.43168905,  0.5168505 , ..., -0.7013363 ,\n",
       "         0.3542925 ,  0.01895424],\n",
       "       [ 0.22662462, -0.12233733, -0.27706638, ..., -0.02576932,\n",
       "         0.48777938,  0.25713694],\n",
       "       [-0.87524796, -0.33509952,  0.11310824, ..., -0.32405397,\n",
       "         1.172567  ,  0.56321496]])"
      ]
     },
     "execution_count": 73,
     "metadata": {},
     "output_type": "execute_result"
    }
   ],
   "source": [
    "X"
   ]
  },
  {
   "cell_type": "code",
   "execution_count": 74,
   "metadata": {},
   "outputs": [
    {
     "data": {
      "text/plain": [
       "array(['desconhecidos', 'desconhecidos', 'desconhecidos', ..., 'Anita',\n",
       "       'Anita', 'Anita'], dtype=object)"
      ]
     },
     "execution_count": 74,
     "metadata": {},
     "output_type": "execute_result"
    }
   ],
   "source": [
    "y"
   ]
  },
  {
   "cell_type": "code",
   "execution_count": 75,
   "metadata": {},
   "outputs": [
    {
     "name": "stdout",
     "output_type": "stream",
     "text": [
      "(15488, 128)\n",
      "(15488,)\n"
     ]
    }
   ],
   "source": [
    "print(X.shape)\n",
    "print(y.shape)"
   ]
  },
  {
   "cell_type": "markdown",
   "metadata": {},
   "source": [
    "# Misturando Tudo"
   ]
  },
  {
   "cell_type": "code",
   "execution_count": 76,
   "metadata": {},
   "outputs": [],
   "source": [
    "from sklearn.utils import shuffle"
   ]
  },
  {
   "cell_type": "code",
   "execution_count": 77,
   "metadata": {},
   "outputs": [],
   "source": [
    "X, y = shuffle(X, y, random_state=0)"
   ]
  },
  {
   "cell_type": "markdown",
   "metadata": {},
   "source": [
    "# Split Dataset"
   ]
  },
  {
   "cell_type": "code",
   "execution_count": 78,
   "metadata": {},
   "outputs": [],
   "source": [
    "from sklearn.model_selection import train_test_split"
   ]
  },
  {
   "cell_type": "code",
   "execution_count": 79,
   "metadata": {},
   "outputs": [],
   "source": [
    "trainX, valX, trainY, valY = train_test_split(X, y, test_size=0.30, random_state=42)"
   ]
  },
  {
   "cell_type": "markdown",
   "metadata": {},
   "source": [
    "# Normalizando"
   ]
  },
  {
   "cell_type": "code",
   "execution_count": 80,
   "metadata": {},
   "outputs": [],
   "source": [
    "from sklearn.preprocessing import Normalizer"
   ]
  },
  {
   "cell_type": "code",
   "execution_count": 81,
   "metadata": {},
   "outputs": [],
   "source": [
    "norm = Normalizer(norm=\"l2\")\n",
    "trainX = norm.transform(trainX)\n",
    "valX = norm.transform(valX)"
   ]
  },
  {
   "cell_type": "markdown",
   "metadata": {},
   "source": [
    "# Tratando Labels"
   ]
  },
  {
   "cell_type": "code",
   "execution_count": 82,
   "metadata": {},
   "outputs": [],
   "source": [
    "from sklearn.preprocessing import LabelEncoder"
   ]
  },
  {
   "cell_type": "code",
   "execution_count": 83,
   "metadata": {},
   "outputs": [
    {
     "data": {
      "text/plain": [
       "array(['Amanda', 'Anita', 'desconhecidos'], dtype=object)"
      ]
     },
     "execution_count": 83,
     "metadata": {},
     "output_type": "execute_result"
    }
   ],
   "source": [
    "np.unique(trainY)"
   ]
  },
  {
   "cell_type": "code",
   "execution_count": 84,
   "metadata": {},
   "outputs": [
    {
     "data": {
      "text/plain": [
       "3"
      ]
     },
     "execution_count": 84,
     "metadata": {},
     "output_type": "execute_result"
    }
   ],
   "source": [
    "classes = len(np.unique(trainY))\n",
    "classes"
   ]
  },
  {
   "cell_type": "markdown",
   "metadata": {},
   "source": [
    "## Discretizando"
   ]
  },
  {
   "cell_type": "code",
   "execution_count": 85,
   "metadata": {},
   "outputs": [
    {
     "data": {
      "text/plain": [
       "array([0, 1, 2])"
      ]
     },
     "execution_count": 85,
     "metadata": {},
     "output_type": "execute_result"
    }
   ],
   "source": [
    "out_encoder = LabelEncoder()\n",
    "out_encoder.fit(trainY)\n",
    "trainY = out_encoder.transform(trainY)\n",
    "np.unique(trainY)"
   ]
  },
  {
   "cell_type": "code",
   "execution_count": 86,
   "metadata": {},
   "outputs": [
    {
     "data": {
      "text/plain": [
       "array([0, 1, 2])"
      ]
     },
     "execution_count": 86,
     "metadata": {},
     "output_type": "execute_result"
    }
   ],
   "source": [
    "out_encoder = LabelEncoder()\n",
    "out_encoder.fit(valY)\n",
    "valY = out_encoder.transform(valY)\n",
    "np.unique(valY)"
   ]
  },
  {
   "cell_type": "markdown",
   "metadata": {},
   "source": [
    "# Usando Keras"
   ]
  },
  {
   "cell_type": "code",
   "execution_count": 87,
   "metadata": {},
   "outputs": [],
   "source": [
    "from tensorflow.keras.utils import to_categorical\n",
    "trainY = to_categorical(trainY)\n",
    "valY = to_categorical(valY)"
   ]
  },
  {
   "cell_type": "code",
   "execution_count": 88,
   "metadata": {},
   "outputs": [
    {
     "name": "stdout",
     "output_type": "stream",
     "text": [
      "[0. 0. 1.]\n",
      "[0. 0. 1.]\n"
     ]
    }
   ],
   "source": [
    "print(valY[0])\n",
    "print(trainY[0])"
   ]
  },
  {
   "cell_type": "code",
   "execution_count": 89,
   "metadata": {},
   "outputs": [],
   "source": [
    "from tensorflow.keras import models\n",
    "from tensorflow.keras import layers"
   ]
  },
  {
   "cell_type": "code",
   "execution_count": 90,
   "metadata": {},
   "outputs": [
    {
     "name": "stdout",
     "output_type": "stream",
     "text": [
      "Model: \"sequential_2\"\n",
      "_________________________________________________________________\n",
      "Layer (type)                 Output Shape              Param #   \n",
      "=================================================================\n",
      "dense_4 (Dense)              (None, 128)               16512     \n",
      "_________________________________________________________________\n",
      "dropout_2 (Dropout)          (None, 128)               0         \n",
      "_________________________________________________________________\n",
      "dense_5 (Dense)              (None, 3)                 387       \n",
      "=================================================================\n",
      "Total params: 16,899\n",
      "Trainable params: 16,899\n",
      "Non-trainable params: 0\n",
      "_________________________________________________________________\n"
     ]
    }
   ],
   "source": [
    "model = models.Sequential()\n",
    "model.add(layers.Dense(128, activation='relu', input_shape=(128,)))\n",
    "model.add(layers.Dropout(0.5))\n",
    "model.add(layers.Dense(classes, activation='softmax'))\n",
    "\n",
    "model.summary()"
   ]
  },
  {
   "cell_type": "code",
   "execution_count": 91,
   "metadata": {},
   "outputs": [],
   "source": [
    "model.compile(optimizer='adam',\n",
    "                loss='categorical_crossentropy',\n",
    "                metrics=['accuracy'])"
   ]
  },
  {
   "cell_type": "code",
   "execution_count": 92,
   "metadata": {},
   "outputs": [
    {
     "name": "stdout",
     "output_type": "stream",
     "text": [
      "Train on 10841 samples, validate on 4647 samples\n",
      "Epoch 1/40\n",
      "10841/10841 [==============================] - 3s 292us/sample - loss: 0.0870 - accuracy: 0.9836 - val_loss: 0.0188 - val_accuracy: 0.9933\n",
      "Epoch 2/40\n",
      "10841/10841 [==============================] - 3s 243us/sample - loss: 0.0164 - accuracy: 0.9946 - val_loss: 0.0120 - val_accuracy: 0.9957\n",
      "Epoch 3/40\n",
      "10841/10841 [==============================] - 3s 240us/sample - loss: 0.0089 - accuracy: 0.9969 - val_loss: 0.0069 - val_accuracy: 0.9981\n",
      "Epoch 4/40\n",
      "10841/10841 [==============================] - 2s 191us/sample - loss: 0.0062 - accuracy: 0.9980 - val_loss: 0.0064 - val_accuracy: 0.9981\n",
      "Epoch 5/40\n",
      "10841/10841 [==============================] - 2s 183us/sample - loss: 0.0049 - accuracy: 0.9989 - val_loss: 0.0044 - val_accuracy: 0.9987\n",
      "Epoch 6/40\n",
      "10841/10841 [==============================] - 3s 249us/sample - loss: 0.0037 - accuracy: 0.9988 - val_loss: 0.0040 - val_accuracy: 0.9985\n",
      "Epoch 7/40\n",
      "10841/10841 [==============================] - 2s 198us/sample - loss: 0.0028 - accuracy: 0.9992 - val_loss: 0.0038 - val_accuracy: 0.9985\n",
      "Epoch 8/40\n",
      "10841/10841 [==============================] - 3s 233us/sample - loss: 0.0024 - accuracy: 0.9994 - val_loss: 0.0039 - val_accuracy: 0.9989\n",
      "Epoch 9/40\n",
      "10841/10841 [==============================] - 3s 281us/sample - loss: 0.0021 - accuracy: 0.9994 - val_loss: 0.0035 - val_accuracy: 0.9989\n",
      "Epoch 10/40\n",
      "10841/10841 [==============================] - 3s 241us/sample - loss: 0.0018 - accuracy: 0.9994 - val_loss: 0.0045 - val_accuracy: 0.9981\n",
      "Epoch 11/40\n",
      "10841/10841 [==============================] - 2s 228us/sample - loss: 0.0016 - accuracy: 0.9994 - val_loss: 0.0032 - val_accuracy: 0.9991\n",
      "Epoch 12/40\n",
      "10841/10841 [==============================] - 2s 206us/sample - loss: 0.0014 - accuracy: 0.9996 - val_loss: 0.0034 - val_accuracy: 0.9991\n",
      "Epoch 13/40\n",
      "10841/10841 [==============================] - 2s 171us/sample - loss: 6.8896e-04 - accuracy: 0.9999 - val_loss: 0.0038 - val_accuracy: 0.9989\n",
      "Epoch 14/40\n",
      "10841/10841 [==============================] - 2s 216us/sample - loss: 0.0018 - accuracy: 0.9994 - val_loss: 0.0036 - val_accuracy: 0.9987\n",
      "Epoch 15/40\n",
      "10841/10841 [==============================] - 2s 218us/sample - loss: 7.2136e-04 - accuracy: 0.9998 - val_loss: 0.0036 - val_accuracy: 0.9987\n",
      "Epoch 16/40\n",
      "10841/10841 [==============================] - 2s 166us/sample - loss: 6.9475e-04 - accuracy: 0.9998 - val_loss: 0.0037 - val_accuracy: 0.9987\n",
      "Epoch 17/40\n",
      "10841/10841 [==============================] - 2s 193us/sample - loss: 0.0014 - accuracy: 0.9995 - val_loss: 0.0031 - val_accuracy: 0.9989\n",
      "Epoch 18/40\n",
      "10841/10841 [==============================] - 2s 226us/sample - loss: 5.6903e-04 - accuracy: 0.9999 - val_loss: 0.0031 - val_accuracy: 0.9989\n",
      "Epoch 19/40\n",
      "10841/10841 [==============================] - 2s 181us/sample - loss: 7.4850e-04 - accuracy: 0.9998 - val_loss: 0.0034 - val_accuracy: 0.9991\n",
      "Epoch 20/40\n",
      "10841/10841 [==============================] - 2s 183us/sample - loss: 6.2047e-04 - accuracy: 0.9998 - val_loss: 0.0038 - val_accuracy: 0.9989\n",
      "Epoch 21/40\n",
      "10841/10841 [==============================] - 2s 223us/sample - loss: 5.0080e-04 - accuracy: 0.9997 - val_loss: 0.0039 - val_accuracy: 0.9987\n",
      "Epoch 22/40\n",
      "10841/10841 [==============================] - 2s 182us/sample - loss: 5.4581e-04 - accuracy: 0.9998 - val_loss: 0.0033 - val_accuracy: 0.9991\n",
      "Epoch 23/40\n",
      "10841/10841 [==============================] - 2s 173us/sample - loss: 0.0013 - accuracy: 0.9994 - val_loss: 0.0031 - val_accuracy: 0.9987\n",
      "Epoch 24/40\n",
      "10841/10841 [==============================] - 2s 223us/sample - loss: 4.7662e-04 - accuracy: 0.9999 - val_loss: 0.0033 - val_accuracy: 0.9991\n",
      "Epoch 25/40\n",
      "10841/10841 [==============================] - 2s 223us/sample - loss: 5.4615e-04 - accuracy: 0.9998 - val_loss: 0.0040 - val_accuracy: 0.9991\n",
      "Epoch 26/40\n",
      "10841/10841 [==============================] - 2s 201us/sample - loss: 2.9613e-04 - accuracy: 0.9999 - val_loss: 0.0030 - val_accuracy: 0.9991\n",
      "Epoch 27/40\n",
      "10841/10841 [==============================] - 2s 230us/sample - loss: 6.0491e-04 - accuracy: 0.9996 - val_loss: 0.0039 - val_accuracy: 0.9991\n",
      "Epoch 28/40\n",
      "10841/10841 [==============================] - 2s 182us/sample - loss: 3.8381e-04 - accuracy: 0.9999 - val_loss: 0.0041 - val_accuracy: 0.9989\n",
      "Epoch 29/40\n",
      "10841/10841 [==============================] - 2s 220us/sample - loss: 3.1395e-04 - accuracy: 0.9999 - val_loss: 0.0035 - val_accuracy: 0.9989\n",
      "Epoch 30/40\n",
      "10841/10841 [==============================] - 2s 203us/sample - loss: 1.7865e-04 - accuracy: 1.0000 - val_loss: 0.0038 - val_accuracy: 0.9987\n",
      "Epoch 31/40\n",
      "10841/10841 [==============================] - 2s 185us/sample - loss: 5.6914e-04 - accuracy: 0.9998 - val_loss: 0.0038 - val_accuracy: 0.9991\n",
      "Epoch 32/40\n",
      "10841/10841 [==============================] - 2s 226us/sample - loss: 2.5828e-04 - accuracy: 0.9999 - val_loss: 0.0045 - val_accuracy: 0.9987\n",
      "Epoch 33/40\n",
      "10841/10841 [==============================] - 2s 183us/sample - loss: 2.0828e-04 - accuracy: 1.0000 - val_loss: 0.0037 - val_accuracy: 0.9987\n",
      "Epoch 34/40\n",
      "10841/10841 [==============================] - 2s 206us/sample - loss: 8.4504e-04 - accuracy: 0.9998 - val_loss: 0.0033 - val_accuracy: 0.9989\n",
      "Epoch 35/40\n",
      "10841/10841 [==============================] - 3s 231us/sample - loss: 2.7576e-04 - accuracy: 0.9999 - val_loss: 0.0029 - val_accuracy: 0.9989\n",
      "Epoch 36/40\n",
      "10841/10841 [==============================] - 3s 238us/sample - loss: 4.7029e-04 - accuracy: 0.9999 - val_loss: 0.0028 - val_accuracy: 0.9989\n",
      "Epoch 37/40\n",
      "10841/10841 [==============================] - 2s 184us/sample - loss: 6.1001e-04 - accuracy: 0.9999 - val_loss: 0.0039 - val_accuracy: 0.9991\n",
      "Epoch 38/40\n",
      "10841/10841 [==============================] - 2s 211us/sample - loss: 2.8425e-04 - accuracy: 0.9998 - val_loss: 0.0037 - val_accuracy: 0.9991\n",
      "Epoch 39/40\n",
      "10841/10841 [==============================] - 2s 221us/sample - loss: 8.0022e-05 - accuracy: 1.0000 - val_loss: 0.0034 - val_accuracy: 0.9991\n",
      "Epoch 40/40\n",
      "10841/10841 [==============================] - 2s 178us/sample - loss: 3.9156e-04 - accuracy: 0.9999 - val_loss: 0.0035 - val_accuracy: 0.9994\n"
     ]
    }
   ],
   "source": [
    "batch_size=8\n",
    "epochs= 40\n",
    "\n",
    "history = model.fit(trainX, trainY, epochs=epochs, validation_data = (valX,valY), batch_size=batch_size)"
   ]
  },
  {
   "cell_type": "code",
   "execution_count": 93,
   "metadata": {},
   "outputs": [],
   "source": [
    "import matplotlib.pyplot as plt\n",
    "%matplotlib inline"
   ]
  },
  {
   "cell_type": "code",
   "execution_count": 94,
   "metadata": {},
   "outputs": [
    {
     "data": {
      "image/png": "[encoded data removed]",
      "text/plain": [
       "<Figure size 432x288 with 1 Axes>"
      ]
     },
     "metadata": {
      "needs_background": "light"
     },
     "output_type": "display_data"
    },
    {
     "data": {
      "image/png": "[encoded data removed]",
      "text/plain": [
       "<Figure size 432x288 with 1 Axes>"
      ]
     },
     "metadata": {
      "needs_background": "light"
     },
     "output_type": "display_data"
    }
   ],
   "source": [
    "plt.plot(history.history['accuracy'])\n",
    "plt.plot(history.history['val_accuracy'])\n",
    "plt.title('model accuracy')\n",
    "plt.ylabel('accuracy')\n",
    "plt.xlabel('epoch')\n",
    "plt.legend(['train', 'test'], loc='upper left')\n",
    "plt.show()\n",
    "\n",
    "plt.plot(history.history['loss'])\n",
    "plt.plot(history.history['val_loss'])\n",
    "plt.title('model loss')\n",
    "plt.ylabel('loss')\n",
    "plt.xlabel('epoch')\n",
    "plt.legend(['train', 'test'], loc='upper left')\n",
    "plt.show()"
   ]
  },
  {
   "cell_type": "code",
   "execution_count": 95,
   "metadata": {},
   "outputs": [
    {
     "name": "stdout",
     "output_type": "stream",
     "text": [
      "4647/4647 [==============================] - 0s 21us/sample - loss: 0.0035 - accuracy: 0.9994\n"
     ]
    }
   ],
   "source": [
    "val_loss, val_accuracy = model.evaluate(valX, valY)"
   ]
  },
  {
   "cell_type": "code",
   "execution_count": 96,
   "metadata": {},
   "outputs": [],
   "source": [
    "yhat_val = model.predict(valX)"
   ]
  },
  {
   "cell_type": "code",
   "execution_count": 97,
   "metadata": {},
   "outputs": [
    {
     "name": "stdout",
     "output_type": "stream",
     "text": [
      "2\n",
      "2\n"
     ]
    }
   ],
   "source": [
    "valY2 = np.argmax(valY, axis = 1)\n",
    "yhat_val = np.argmax(yhat_val, axis = 1)\n",
    "\n",
    "print(valY2[0])\n",
    "print(yhat_val[0])"
   ]
  },
  {
   "cell_type": "code",
   "execution_count": 98,
   "metadata": {},
   "outputs": [],
   "source": [
    "from sklearn.metrics import confusion_matrix\n",
    "\n",
    "def print_confusion_matrix(model_name, valY, yhat_val):\n",
    "        \n",
    "    cm = confusion_matrix(valY, yhat_val)\n",
    "    total = sum(sum(cm))\n",
    "    accuracy = (cm[0, 0] + cm[1, 1]) / total\n",
    "    sensitivity = cm[0, 0] / (cm[0, 0] + cm[0, 1])\n",
    "    specificity = cm[1, 1] / (cm[1, 0] + cm[1, 1])\n",
    "    \n",
    "    print(\"MODELO : {}\".format(model_name))\n",
    "    print(\"Acurácia: {:.4f}\".format(accuracy))\n",
    "    print(\"Sensitividade: {:.4f}\".format(sensitivity))\n",
    "    print(\"Especificidade: {:.4f}\".format(specificity))\n",
    "\n",
    "    from mlxtend.plotting import plot_confusion_matrix\n",
    "    fig, ax = plot_confusion_matrix(conf_mat=cm ,  figsize=(5, 5))\n",
    "    plt.show()"
   ]
  },
  {
   "cell_type": "code",
   "execution_count": 99,
   "metadata": {},
   "outputs": [
    {
     "name": "stdout",
     "output_type": "stream",
     "text": [
      "MODELO : KERAS\n",
      "Acurácia: 0.0329\n",
      "Sensitividade: 0.9925\n",
      "Especificidade: 1.0000\n"
     ]
    },
    {
     "data": {
      "image/png": "[encoded data removed]",
      "text/plain": [
       "<Figure size 360x360 with 1 Axes>"
      ]
     },
     "metadata": {
      "needs_background": "light"
     },
     "output_type": "display_data"
    }
   ],
   "source": [
    "print_confusion_matrix(\"KERAS\", valY2, yhat_val)"
   ]
  },
  {
   "cell_type": "markdown",
   "metadata": {},
   "source": [
    "# Salvando o Modelo"
   ]
  },
  {
   "cell_type": "code",
   "execution_count": 100,
   "metadata": {},
   "outputs": [],
   "source": [
    "model.save(\"faces_d.h5\")"
   ]
  },
  {
   "cell_type": "code",
   "execution_count": null,
   "metadata": {},
   "outputs": [],
   "source": []
  }
 ],
 "metadata": {
  "kernelspec": {
   "display_name": "Python 3",
   "language": "python",
   "name": "python3"
  },
  "language_info": {
   "codemirror_mode": {
    "name": "ipython",
    "version": 3
   },
   "file_extension": ".py",
   "mimetype": "text/x-python",
   "name": "python",
   "nbconvert_exporter": "python",
   "pygments_lexer": "ipython3",
   "version": "3.7.9"
  }
 },
 "nbformat": 4,
 "nbformat_minor": 4
}
